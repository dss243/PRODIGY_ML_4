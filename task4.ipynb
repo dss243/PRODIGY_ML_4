{
 "cells": [
  {
   "cell_type": "code",
   "execution_count": 5,
   "id": "5cf31873-d520-4366-80be-b208df1b24d0",
   "metadata": {},
   "outputs": [],
   "source": [
    "import os\n",
    "import numpy as np\n",
    "import matplotlib.pyplot as plt\n",
    "import pandas as pd\n",
    "from PIL import Image\n",
    "import cv2\n",
    "import seaborn as sns\n",
    "from sklearn.model_selection import train_test_split\n",
    "from keras.models import Sequential\n",
    "from sklearn.metrics import confusion_matrix, classification_report\n",
    "from keras.utils import to_categorical\n",
    "import numpy as np\n",
    "from tensorflow.keras.models import Model\n",
    "import tensorflow as tf\n",
    "from tensorflow.keras.callbacks import EarlyStopping, ReduceLROnPlateau\n",
    "from tensorflow.keras.models import Sequential\n",
    "from tensorflow.keras.layers import Conv2D, MaxPooling2D, Flatten, Dense, Dropout\n",
    "from tensorflow.keras.optimizers import Adam\n",
    "from tensorflow.keras.preprocessing.image import ImageDataGenerator\n",
    "import random\n"
   ]
  },
  {
   "cell_type": "code",
   "execution_count": 9,
   "id": "87925514-ecce-4c72-9dfe-7e2a25b12828",
   "metadata": {},
   "outputs": [
    {
     "data": {
      "text/plain": [
       "['palm',\n",
       " 'l',\n",
       " 'fist',\n",
       " 'fist_moved',\n",
       " 'thumb',\n",
       " 'index',\n",
       " 'ok',\n",
       " 'palm_moved',\n",
       " 'c',\n",
       " 'down']"
      ]
     },
     "execution_count": 9,
     "metadata": {},
     "output_type": "execute_result"
    }
   ],
   "source": [
    "path = \"C:\\\\Users\\\\Soundous\\\\Desktop\\\\PRODIGY_ML_04\\\\leapGestRecog\"\n",
    "folders = os.listdir(path)\n",
    "inner_folders = os.listdir(path+\"/01\")\n",
    "categories=[]\n",
    "for i in inner_folders:\n",
    "  category = i.split('_', maxsplit=1)[1:]\n",
    "  categories.append(category[0])\n",
    "num_classes = len(categories)\n",
    "categories"
   ]
  },
  {
   "cell_type": "code",
   "execution_count": 11,
   "id": "8191661a-aa30-4f1a-8ed8-6193f9973368",
   "metadata": {},
   "outputs": [
    {
     "name": "stdout",
     "output_type": "stream",
     "text": [
      "Loaded 20000 images with 20000 labels.\n"
     ]
    }
   ],
   "source": [
    "data_dir =\"C:\\\\Users\\\\Soundous\\\\Desktop\\\\PRODIGY_ML_04\\\\leapGestRecog\\\\leapGestRecog\"\n",
    "img_size = (64, 64)  # Resize images to a consistent size\n",
    "num_classes = 10\n",
    "\n",
    "images = []\n",
    "labels = []\n",
    "\n",
    "# Load images and labels\n",
    "for main_folder in os.listdir(data_dir):\n",
    "    main_folder_path = os.path.join(data_dir, main_folder)\n",
    "    if os.path.isdir(main_folder_path):\n",
    "        for gesture in os.listdir(main_folder_path):\n",
    "            gesture_path = os.path.join(main_folder_path, gesture)\n",
    "            if os.path.isdir(gesture_path):\n",
    "                for img_file in os.listdir(gesture_path):\n",
    "                    img_path = os.path.join(gesture_path, img_file)\n",
    "                    img = cv2.imread(img_path)\n",
    "                    if img is not None:\n",
    "                        img = cv2.resize(img, img_size)\n",
    "                        images.append(img)\n",
    "                        labels.append(gesture)\n",
    "                    else:\n",
    "                        print(f\" could not be loaded\")\n",
    "\n",
    "# Convert lists to numpy arrays\n",
    "images = np.array(images)\n",
    "labels = np.array(labels)\n",
    "\n",
    "print(f\"Loaded {len(images)} images with {len(labels)} labels.\")"
   ]
  },
  {
   "cell_type": "code",
   "execution_count": 13,
   "id": "e0be8062-23ed-47de-af7e-b74409600f07",
   "metadata": {},
   "outputs": [],
   "source": [
    "df = pd.DataFrame(columns=['filepaths', 'categories'])\n",
    "paths, category = [], []\n",
    "\n",
    "for folder in folders:\n",
    "    inner_folders = os.listdir(path + '/' + folder)\n",
    "    for inner_f in inner_folders:\n",
    "        files = os.listdir(path + '/' + folder + \"/\" + inner_f)\n",
    "        for file in files:\n",
    "            paths.append(folder + '/' + inner_f + '/' + file)\n",
    "            split_inner_f = inner_f.split('_', maxsplit=1)\n",
    "            if len(split_inner_f) > 1:\n",
    "                category.append(split_inner_f[1])\n",
    "            else:\n",
    "                category.append('PAR_defaut') \n",
    "\n",
    "df['filepaths'] = paths\n",
    "df['categories'] = category"
   ]
  },
  {
   "cell_type": "code",
   "execution_count": 15,
   "id": "1e83fa4c-8867-40ab-9a6b-47598154105d",
   "metadata": {},
   "outputs": [],
   "source": [
    "im_size = (224, 224)\n",
    "im_width, im_height = im_size\n",
    "im_channels=1\n",
    "batch_size = 50\n",
    "\n"
   ]
  },
  {
   "cell_type": "code",
   "execution_count": 17,
   "id": "889beb52-5278-4d12-ab7c-44084be785db",
   "metadata": {},
   "outputs": [],
   "source": [
    "if len(images) == 0 or len(labels) == 0:\n",
    "    raise ValueError(\"No images or labels were loaded. Please check the dataset path and contents.\")"
   ]
  },
  {
   "cell_type": "code",
   "execution_count": 19,
   "id": "b7e1596d-e6a9-4402-88a9-4ba7a250163f",
   "metadata": {},
   "outputs": [],
   "source": [
    "#Normalize the images\n",
    "images = images.astype('float32') / 255.0\n",
    "#Encode labels to numerical values\n",
    "label_names = sorted(set(labels))\n",
    "label_map = {label: idx for idx, label in enumerate(label_names)}\n",
    "encoded_labels = np.array([label_map[label] for label in labels])"
   ]
  },
  {
   "cell_type": "code",
   "execution_count": 21,
   "id": "48ec641d-93ea-4b6c-aa40-514da6a01ccf",
   "metadata": {},
   "outputs": [],
   "source": [
    "encoded_labels = to_categorical(encoded_labels, num_classes)"
   ]
  },
  {
   "cell_type": "code",
   "execution_count": 23,
   "id": "7f9d63ee-c54c-4e25-acc8-59dc4dac76e2",
   "metadata": {},
   "outputs": [
    {
     "name": "stdout",
     "output_type": "stream",
     "text": [
      "Training data shape: (16000, 64, 64, 3), (16000, 10)\n",
      "Testing data shape: (4000, 64, 64, 3), (4000, 10)\n"
     ]
    }
   ],
   "source": [
    "#Split Data\n",
    "X_train, X_test, y_train, y_test = train_test_split(images, encoded_labels, test_size=0.2, random_state=42)\n",
    "print(f\"Training data shape: {X_train.shape}, {y_train.shape}\")\n",
    "print(f\"Testing data shape: {X_test.shape}, {y_test.shape}\")"
   ]
  },
  {
   "cell_type": "code",
   "execution_count": 25,
   "id": "eb0eacf8-fd8b-4dfc-bfe7-000f9b273ea7",
   "metadata": {},
   "outputs": [
    {
     "name": "stdout",
     "output_type": "stream",
     "text": [
      "Class labels and their corresponding indices:\n",
      "0: 01_palm\n",
      "1: 02_l\n",
      "2: 03_fist\n",
      "3: 04_fist_moved\n",
      "4: 05_thumb\n",
      "5: 06_index\n",
      "6: 07_ok\n",
      "7: 08_palm_moved\n",
      "8: 09_c\n",
      "9: 10_down\n"
     ]
    }
   ],
   "source": [
    "#Display class names and their corresponding labels\n",
    "print(\"Class labels and their corresponding indices:\")\n",
    "for label, idx in label_map.items():\n",
    "    print(f\"{idx}: {label}\")"
   ]
  },
  {
   "cell_type": "code",
   "execution_count": 27,
   "id": "812c5c47-28f2-4930-ac24-aacf43b9ea82",
   "metadata": {},
   "outputs": [
    {
     "data": {
      "text/html": [
       "<div>\n",
       "<style scoped>\n",
       "    .dataframe tbody tr th:only-of-type {\n",
       "        vertical-align: middle;\n",
       "    }\n",
       "\n",
       "    .dataframe tbody tr th {\n",
       "        vertical-align: top;\n",
       "    }\n",
       "\n",
       "    .dataframe thead th {\n",
       "        text-align: right;\n",
       "    }\n",
       "</style>\n",
       "<table border=\"1\" class=\"dataframe\">\n",
       "  <thead>\n",
       "    <tr style=\"text-align: right;\">\n",
       "      <th></th>\n",
       "      <th>filepaths</th>\n",
       "      <th>categories</th>\n",
       "    </tr>\n",
       "  </thead>\n",
       "  <tbody>\n",
       "    <tr>\n",
       "      <th>13498</th>\n",
       "      <td>06/08_palm_moved/frame_06_08_0099.png</td>\n",
       "      <td>palm_moved</td>\n",
       "    </tr>\n",
       "    <tr>\n",
       "      <th>2268</th>\n",
       "      <td>01/02_l/frame_01_02_0069.png</td>\n",
       "      <td>l</td>\n",
       "    </tr>\n",
       "    <tr>\n",
       "      <th>6481</th>\n",
       "      <td>03/03_fist/frame_03_03_0082.png</td>\n",
       "      <td>fist</td>\n",
       "    </tr>\n",
       "    <tr>\n",
       "      <th>1731</th>\n",
       "      <td>00/09_c/frame_00_09_0132.png</td>\n",
       "      <td>c</td>\n",
       "    </tr>\n",
       "    <tr>\n",
       "      <th>12809</th>\n",
       "      <td>06/05_thumb/frame_06_05_0010.png</td>\n",
       "      <td>thumb</td>\n",
       "    </tr>\n",
       "  </tbody>\n",
       "</table>\n",
       "</div>"
      ],
      "text/plain": [
       "                                   filepaths  categories\n",
       "13498  06/08_palm_moved/frame_06_08_0099.png  palm_moved\n",
       "2268            01/02_l/frame_01_02_0069.png           l\n",
       "6481         03/03_fist/frame_03_03_0082.png        fist\n",
       "1731            00/09_c/frame_00_09_0132.png           c\n",
       "12809       06/05_thumb/frame_06_05_0010.png       thumb"
      ]
     },
     "execution_count": 27,
     "metadata": {},
     "output_type": "execute_result"
    }
   ],
   "source": [
    "train_df, test_df = train_test_split(df, test_size=0.2, random_state=123)\n",
    "test_df, val_df = train_test_split(test_df, test_size=0.5, random_state=123)\n",
    "train_df[:5]"
   ]
  },
  {
   "cell_type": "code",
   "execution_count": 31,
   "id": "484d6949-3791-4f85-b29d-38e93c5a0091",
   "metadata": {},
   "outputs": [],
   "source": [
    "import warnings\n",
    "warnings.filterwarnings('ignore')"
   ]
  },
  {
   "cell_type": "code",
   "execution_count": 33,
   "id": "7a69e9e9-fffa-42ed-b3fe-f4e3fd028ae6",
   "metadata": {},
   "outputs": [
    {
     "name": "stdout",
     "output_type": "stream",
     "text": [
      "Found 16000 validated image filenames belonging to 10 classes.\n"
     ]
    }
   ],
   "source": [
    "train_datagen = ImageDataGenerator(rescale=1/.255,\n",
    "                                   width_shift_range=0.2,\n",
    "                                   height_shift_range=0.2,\n",
    "                                   shear_range=0.2,\n",
    "                                   zoom_range=0.2,\n",
    "                                   horizontal_flip=True,\n",
    "                                   rotation_range=40)\n",
    "\n",
    "train_generator = train_datagen.flow_from_dataframe(\n",
    "    train_df,\n",
    "    path+'/',\n",
    "    x_col='filepaths',\n",
    "    y_col='categories',\n",
    "    target_size = im_size,\n",
    "    class_mode='categorical',\n",
    "    color_mode='grayscale',\n",
    "    batch_size=batch_size,\n",
    "    classes=categories\n",
    ")"
   ]
  },
  {
   "cell_type": "code",
   "execution_count": 35,
   "id": "80a1d7af-ca33-4971-8e99-d5be98a700f0",
   "metadata": {},
   "outputs": [
    {
     "name": "stdout",
     "output_type": "stream",
     "text": [
      "Found 1998 validated image filenames belonging to 10 classes.\n"
     ]
    }
   ],
   "source": [
    "val_datagen = ImageDataGenerator(rescale=1/.255)\n",
    "val_generator = val_datagen.flow_from_dataframe(\n",
    "    val_df,\n",
    "    path+'/',\n",
    "    x_col='filepaths',\n",
    "    y_col='categories',\n",
    "    target_size = im_size,\n",
    "    class_mode='categorical',\n",
    "    color_mode='grayscale',\n",
    "    batch_size=batch_size,\n",
    "    classes=categories\n",
    ") "
   ]
  },
  {
   "cell_type": "code",
   "execution_count": 37,
   "id": "8bdeb2a6-ed39-4314-9526-9c5c52cc5203",
   "metadata": {},
   "outputs": [
    {
     "name": "stdout",
     "output_type": "stream",
     "text": [
      "Loaded 20000 images with 20000 labels.\n"
     ]
    }
   ],
   "source": [
    "# Convert string labels to integers\n",
    "categories, labels = np.unique(labels, return_inverse=True)\n",
    "num_classes = len(categories)\n",
    "\n",
    "print(f\"Loaded {len(images)} images with {len(labels)} labels.\")"
   ]
  },
  {
   "cell_type": "code",
   "execution_count": 45,
   "id": "9ef409da-5190-4a33-9c89-867b78d9b88f",
   "metadata": {},
   "outputs": [],
   "source": [
    "# Split the dataset into training and testing sets\n",
    "X_train, X_test, y_train, y_test = train_test_split(images, labels, test_size=0.2, random_state=42)\n",
    "# Normalize the images\n",
    "X_train = X_train.astype('float32') / 255.0\n",
    "X_test = X_test.astype('float32') / 255.0\n",
    "\n",
    "# Reshape images to fit model input requirements (if needed)\n",
    "X_train = X_train.reshape(-1, img_size[0], img_size[1], 3)  # Assuming images are RGB\n",
    "X_test = X_test.reshape(-1, img_size[0], img_size[1], 3)"
   ]
  },
  {
   "cell_type": "code",
   "execution_count": 47,
   "id": "1c79a4ce-7b60-4137-923e-7385c4262364",
   "metadata": {},
   "outputs": [],
   "source": [
    "def preprocess_images(images, target_size=(224, 224)):\n",
    "    preprocessed_images = []\n",
    "    for img in images:\n",
    "        img_resized = cv2.resize(img, target_size)\n",
    "        img_gray = cv2.cvtColor(img_resized, cv2.COLOR_BGR2GRAY)\n",
    "        img_gray = img_gray.reshape(target_size[0], target_size[1], 1)\n",
    "        preprocessed_images.append(img_gray)\n",
    "    return np.array(preprocessed_images)\n",
    "\n",
    "X_train_preprocessed = preprocess_images(X_train, target_size=(224, 224))\n",
    "\n",
    "# Update the model to expect (224, 224, 1) input shape\n",
    "\n",
    "model = Sequential([\n",
    "    Conv2D(32, (3, 3), activation='relu', input_shape=(64, 64, 3)),\n",
    "    MaxPooling2D((2, 2)),\n",
    "    Flatten(),\n",
    "    Dense(128, activation='relu'),\n",
    "    Dense(num_classes, activation='softmax')  # num_classes is the number of output classes\n",
    "])"
   ]
  },
  {
   "cell_type": "code",
   "execution_count": 49,
   "id": "ad9bd77f-4bd6-4d47-b3db-c7e328348373",
   "metadata": {},
   "outputs": [
    {
     "name": "stdout",
     "output_type": "stream",
     "text": [
      "Epoch 1/10\n",
      "\u001b[1m400/400\u001b[0m \u001b[32m━━━━━━━━━━━━━━━━━━━━\u001b[0m\u001b[37m\u001b[0m \u001b[1m23s\u001b[0m 54ms/step - accuracy: 0.2813 - loss: 2.0019 - val_accuracy: 0.7409 - val_loss: 0.9294 - learning_rate: 0.0010\n",
      "Epoch 2/10\n",
      "\u001b[1m400/400\u001b[0m \u001b[32m━━━━━━━━━━━━━━━━━━━━\u001b[0m\u001b[37m\u001b[0m \u001b[1m22s\u001b[0m 56ms/step - accuracy: 0.7552 - loss: 0.8446 - val_accuracy: 0.8656 - val_loss: 0.5512 - learning_rate: 0.0010\n",
      "Epoch 3/10\n",
      "\u001b[1m400/400\u001b[0m \u001b[32m━━━━━━━━━━━━━━━━━━━━\u001b[0m\u001b[37m\u001b[0m \u001b[1m22s\u001b[0m 56ms/step - accuracy: 0.8749 - loss: 0.4630 - val_accuracy: 0.9078 - val_loss: 0.3520 - learning_rate: 0.0010\n",
      "Epoch 4/10\n",
      "\u001b[1m400/400\u001b[0m \u001b[32m━━━━━━━━━━━━━━━━━━━━\u001b[0m\u001b[37m\u001b[0m \u001b[1m22s\u001b[0m 55ms/step - accuracy: 0.9407 - loss: 0.2684 - val_accuracy: 0.9609 - val_loss: 0.2071 - learning_rate: 0.0010\n",
      "Epoch 5/10\n",
      "\u001b[1m400/400\u001b[0m \u001b[32m━━━━━━━━━━━━━━━━━━━━\u001b[0m\u001b[37m\u001b[0m \u001b[1m22s\u001b[0m 55ms/step - accuracy: 0.9682 - loss: 0.1629 - val_accuracy: 0.9781 - val_loss: 0.1347 - learning_rate: 0.0010\n",
      "Epoch 6/10\n",
      "\u001b[1m400/400\u001b[0m \u001b[32m━━━━━━━━━━━━━━━━━━━━\u001b[0m\u001b[37m\u001b[0m \u001b[1m22s\u001b[0m 55ms/step - accuracy: 0.9804 - loss: 0.1058 - val_accuracy: 0.9844 - val_loss: 0.0910 - learning_rate: 0.0010\n",
      "Epoch 7/10\n",
      "\u001b[1m400/400\u001b[0m \u001b[32m━━━━━━━━━━━━━━━━━━━━\u001b[0m\u001b[37m\u001b[0m \u001b[1m23s\u001b[0m 56ms/step - accuracy: 0.9869 - loss: 0.0710 - val_accuracy: 0.9887 - val_loss: 0.0657 - learning_rate: 0.0010\n",
      "Epoch 8/10\n",
      "\u001b[1m400/400\u001b[0m \u001b[32m━━━━━━━━━━━━━━━━━━━━\u001b[0m\u001b[37m\u001b[0m \u001b[1m22s\u001b[0m 55ms/step - accuracy: 0.9923 - loss: 0.0456 - val_accuracy: 0.9912 - val_loss: 0.0546 - learning_rate: 0.0010\n",
      "Epoch 9/10\n",
      "\u001b[1m400/400\u001b[0m \u001b[32m━━━━━━━━━━━━━━━━━━━━\u001b[0m\u001b[37m\u001b[0m \u001b[1m22s\u001b[0m 55ms/step - accuracy: 0.9950 - loss: 0.0287 - val_accuracy: 0.9919 - val_loss: 0.0391 - learning_rate: 0.0010\n",
      "Epoch 10/10\n",
      "\u001b[1m400/400\u001b[0m \u001b[32m━━━━━━━━━━━━━━━━━━━━\u001b[0m\u001b[37m\u001b[0m \u001b[1m22s\u001b[0m 55ms/step - accuracy: 0.9960 - loss: 0.0223 - val_accuracy: 0.9941 - val_loss: 0.0346 - learning_rate: 0.0010\n"
     ]
    }
   ],
   "source": [
    "# Compile the model\n",
    "model.compile(optimizer=Adam(),\n",
    "              loss='sparse_categorical_crossentropy',\n",
    "              metrics=['accuracy'])\n",
    "\n",
    "# Define the learning rate reducer callback\n",
    "lr_reducer = ReduceLROnPlateau(monitor='val_loss', factor=0.1, patience=3, cooldown=1, min_lr=1e-6)\n",
    "\n",
    "# Train the model\n",
    "history = model.fit(X_train, y_train, epochs=10, validation_split=0.2, callbacks=[lr_reducer])"
   ]
  },
  {
   "cell_type": "code",
   "execution_count": 51,
   "id": "c6fe1fd8-4a3c-4d42-92f4-e418a07809c7",
   "metadata": {},
   "outputs": [
    {
     "name": "stdout",
     "output_type": "stream",
     "text": [
      "\u001b[1m125/125\u001b[0m \u001b[32m━━━━━━━━━━━━━━━━━━━━\u001b[0m\u001b[37m\u001b[0m \u001b[1m1s\u001b[0m 8ms/step - accuracy: 0.9962 - loss: 0.0247\n",
      "Test accuracy: 99.73%\n"
     ]
    }
   ],
   "source": [
    "# Evaluate the model on the test set\n",
    "test_loss, test_accuracy = model.evaluate(X_test, y_test)\n",
    "print('Test accuracy: {:2.2f}%'.format(test_accuracy * 100))"
   ]
  },
  {
   "cell_type": "code",
   "execution_count": 53,
   "id": "79806b4f-0480-4978-b207-8cb1de7fdf2a",
   "metadata": {},
   "outputs": [
    {
     "data": {
      "text/html": [
       "<pre style=\"white-space:pre;overflow-x:auto;line-height:normal;font-family:Menlo,'DejaVu Sans Mono',consolas,'Courier New',monospace\"><span style=\"font-weight: bold\">Model: \"sequential_1\"</span>\n",
       "</pre>\n"
      ],
      "text/plain": [
       "\u001b[1mModel: \"sequential_1\"\u001b[0m\n"
      ]
     },
     "metadata": {},
     "output_type": "display_data"
    },
    {
     "data": {
      "text/html": [
       "<pre style=\"white-space:pre;overflow-x:auto;line-height:normal;font-family:Menlo,'DejaVu Sans Mono',consolas,'Courier New',monospace\">┏━━━━━━━━━━━━━━━━━━━━━━━━━━━━━━━━━━━━━━┳━━━━━━━━━━━━━━━━━━━━━━━━━━━━━┳━━━━━━━━━━━━━━━━━┓\n",
       "┃<span style=\"font-weight: bold\"> Layer (type)                         </span>┃<span style=\"font-weight: bold\"> Output Shape                </span>┃<span style=\"font-weight: bold\">         Param # </span>┃\n",
       "┡━━━━━━━━━━━━━━━━━━━━━━━━━━━━━━━━━━━━━━╇━━━━━━━━━━━━━━━━━━━━━━━━━━━━━╇━━━━━━━━━━━━━━━━━┩\n",
       "│ conv2d_1 (<span style=\"color: #0087ff; text-decoration-color: #0087ff\">Conv2D</span>)                    │ (<span style=\"color: #00d7ff; text-decoration-color: #00d7ff\">None</span>, <span style=\"color: #00af00; text-decoration-color: #00af00\">62</span>, <span style=\"color: #00af00; text-decoration-color: #00af00\">62</span>, <span style=\"color: #00af00; text-decoration-color: #00af00\">32</span>)          │             <span style=\"color: #00af00; text-decoration-color: #00af00\">896</span> │\n",
       "├──────────────────────────────────────┼─────────────────────────────┼─────────────────┤\n",
       "│ max_pooling2d_1 (<span style=\"color: #0087ff; text-decoration-color: #0087ff\">MaxPooling2D</span>)       │ (<span style=\"color: #00d7ff; text-decoration-color: #00d7ff\">None</span>, <span style=\"color: #00af00; text-decoration-color: #00af00\">31</span>, <span style=\"color: #00af00; text-decoration-color: #00af00\">31</span>, <span style=\"color: #00af00; text-decoration-color: #00af00\">32</span>)          │               <span style=\"color: #00af00; text-decoration-color: #00af00\">0</span> │\n",
       "├──────────────────────────────────────┼─────────────────────────────┼─────────────────┤\n",
       "│ flatten_1 (<span style=\"color: #0087ff; text-decoration-color: #0087ff\">Flatten</span>)                  │ (<span style=\"color: #00d7ff; text-decoration-color: #00d7ff\">None</span>, <span style=\"color: #00af00; text-decoration-color: #00af00\">30752</span>)               │               <span style=\"color: #00af00; text-decoration-color: #00af00\">0</span> │\n",
       "├──────────────────────────────────────┼─────────────────────────────┼─────────────────┤\n",
       "│ dense_2 (<span style=\"color: #0087ff; text-decoration-color: #0087ff\">Dense</span>)                      │ (<span style=\"color: #00d7ff; text-decoration-color: #00d7ff\">None</span>, <span style=\"color: #00af00; text-decoration-color: #00af00\">128</span>)                 │       <span style=\"color: #00af00; text-decoration-color: #00af00\">3,936,384</span> │\n",
       "├──────────────────────────────────────┼─────────────────────────────┼─────────────────┤\n",
       "│ dense_3 (<span style=\"color: #0087ff; text-decoration-color: #0087ff\">Dense</span>)                      │ (<span style=\"color: #00d7ff; text-decoration-color: #00d7ff\">None</span>, <span style=\"color: #00af00; text-decoration-color: #00af00\">10</span>)                  │           <span style=\"color: #00af00; text-decoration-color: #00af00\">1,290</span> │\n",
       "└──────────────────────────────────────┴─────────────────────────────┴─────────────────┘\n",
       "</pre>\n"
      ],
      "text/plain": [
       "┏━━━━━━━━━━━━━━━━━━━━━━━━━━━━━━━━━━━━━━┳━━━━━━━━━━━━━━━━━━━━━━━━━━━━━┳━━━━━━━━━━━━━━━━━┓\n",
       "┃\u001b[1m \u001b[0m\u001b[1mLayer (type)                        \u001b[0m\u001b[1m \u001b[0m┃\u001b[1m \u001b[0m\u001b[1mOutput Shape               \u001b[0m\u001b[1m \u001b[0m┃\u001b[1m \u001b[0m\u001b[1m        Param #\u001b[0m\u001b[1m \u001b[0m┃\n",
       "┡━━━━━━━━━━━━━━━━━━━━━━━━━━━━━━━━━━━━━━╇━━━━━━━━━━━━━━━━━━━━━━━━━━━━━╇━━━━━━━━━━━━━━━━━┩\n",
       "│ conv2d_1 (\u001b[38;5;33mConv2D\u001b[0m)                    │ (\u001b[38;5;45mNone\u001b[0m, \u001b[38;5;34m62\u001b[0m, \u001b[38;5;34m62\u001b[0m, \u001b[38;5;34m32\u001b[0m)          │             \u001b[38;5;34m896\u001b[0m │\n",
       "├──────────────────────────────────────┼─────────────────────────────┼─────────────────┤\n",
       "│ max_pooling2d_1 (\u001b[38;5;33mMaxPooling2D\u001b[0m)       │ (\u001b[38;5;45mNone\u001b[0m, \u001b[38;5;34m31\u001b[0m, \u001b[38;5;34m31\u001b[0m, \u001b[38;5;34m32\u001b[0m)          │               \u001b[38;5;34m0\u001b[0m │\n",
       "├──────────────────────────────────────┼─────────────────────────────┼─────────────────┤\n",
       "│ flatten_1 (\u001b[38;5;33mFlatten\u001b[0m)                  │ (\u001b[38;5;45mNone\u001b[0m, \u001b[38;5;34m30752\u001b[0m)               │               \u001b[38;5;34m0\u001b[0m │\n",
       "├──────────────────────────────────────┼─────────────────────────────┼─────────────────┤\n",
       "│ dense_2 (\u001b[38;5;33mDense\u001b[0m)                      │ (\u001b[38;5;45mNone\u001b[0m, \u001b[38;5;34m128\u001b[0m)                 │       \u001b[38;5;34m3,936,384\u001b[0m │\n",
       "├──────────────────────────────────────┼─────────────────────────────┼─────────────────┤\n",
       "│ dense_3 (\u001b[38;5;33mDense\u001b[0m)                      │ (\u001b[38;5;45mNone\u001b[0m, \u001b[38;5;34m10\u001b[0m)                  │           \u001b[38;5;34m1,290\u001b[0m │\n",
       "└──────────────────────────────────────┴─────────────────────────────┴─────────────────┘\n"
      ]
     },
     "metadata": {},
     "output_type": "display_data"
    },
    {
     "data": {
      "text/html": [
       "<pre style=\"white-space:pre;overflow-x:auto;line-height:normal;font-family:Menlo,'DejaVu Sans Mono',consolas,'Courier New',monospace\"><span style=\"font-weight: bold\"> Total params: </span><span style=\"color: #00af00; text-decoration-color: #00af00\">11,815,712</span> (45.07 MB)\n",
       "</pre>\n"
      ],
      "text/plain": [
       "\u001b[1m Total params: \u001b[0m\u001b[38;5;34m11,815,712\u001b[0m (45.07 MB)\n"
      ]
     },
     "metadata": {},
     "output_type": "display_data"
    },
    {
     "data": {
      "text/html": [
       "<pre style=\"white-space:pre;overflow-x:auto;line-height:normal;font-family:Menlo,'DejaVu Sans Mono',consolas,'Courier New',monospace\"><span style=\"font-weight: bold\"> Trainable params: </span><span style=\"color: #00af00; text-decoration-color: #00af00\">3,938,570</span> (15.02 MB)\n",
       "</pre>\n"
      ],
      "text/plain": [
       "\u001b[1m Trainable params: \u001b[0m\u001b[38;5;34m3,938,570\u001b[0m (15.02 MB)\n"
      ]
     },
     "metadata": {},
     "output_type": "display_data"
    },
    {
     "data": {
      "text/html": [
       "<pre style=\"white-space:pre;overflow-x:auto;line-height:normal;font-family:Menlo,'DejaVu Sans Mono',consolas,'Courier New',monospace\"><span style=\"font-weight: bold\"> Non-trainable params: </span><span style=\"color: #00af00; text-decoration-color: #00af00\">0</span> (0.00 B)\n",
       "</pre>\n"
      ],
      "text/plain": [
       "\u001b[1m Non-trainable params: \u001b[0m\u001b[38;5;34m0\u001b[0m (0.00 B)\n"
      ]
     },
     "metadata": {},
     "output_type": "display_data"
    },
    {
     "data": {
      "text/html": [
       "<pre style=\"white-space:pre;overflow-x:auto;line-height:normal;font-family:Menlo,'DejaVu Sans Mono',consolas,'Courier New',monospace\"><span style=\"font-weight: bold\"> Optimizer params: </span><span style=\"color: #00af00; text-decoration-color: #00af00\">7,877,142</span> (30.05 MB)\n",
       "</pre>\n"
      ],
      "text/plain": [
       "\u001b[1m Optimizer params: \u001b[0m\u001b[38;5;34m7,877,142\u001b[0m (30.05 MB)\n"
      ]
     },
     "metadata": {},
     "output_type": "display_data"
    }
   ],
   "source": [
    "model.summary()"
   ]
  },
  {
   "cell_type": "code",
   "execution_count": 55,
   "id": "3738824e-38bd-4433-9b27-4273ac006c7c",
   "metadata": {},
   "outputs": [
    {
     "name": "stdout",
     "output_type": "stream",
     "text": [
      "\u001b[1m125/125\u001b[0m \u001b[32m━━━━━━━━━━━━━━━━━━━━\u001b[0m\u001b[37m\u001b[0m \u001b[1m1s\u001b[0m 8ms/step\n",
      "               precision    recall  f1-score   support\n",
      "\n",
      "      01_palm       1.00      1.00      1.00       417\n",
      "         02_l       1.00      1.00      1.00       404\n",
      "      03_fist       0.99      1.00      0.99       404\n",
      "04_fist_moved       1.00      0.99      1.00       418\n",
      "     05_thumb       1.00      1.00      1.00       377\n",
      "     06_index       0.99      1.00      0.99       392\n",
      "        07_ok       1.00      1.00      1.00       403\n",
      "08_palm_moved       1.00      1.00      1.00       409\n",
      "         09_c       1.00      1.00      1.00       410\n",
      "      10_down       1.00      1.00      1.00       366\n",
      "\n",
      "     accuracy                           1.00      4000\n",
      "    macro avg       1.00      1.00      1.00      4000\n",
      " weighted avg       1.00      1.00      1.00      4000\n",
      "\n"
     ]
    }
   ],
   "source": [
    "# Generate predictions for confusion matrix\n",
    "y_pred = model.predict(X_test)\n",
    "y_pred_classes = np.argmax(y_pred, axis=1)\n",
    "\n",
    "# Print classification report\n",
    "print(classification_report(y_test, y_pred_classes, target_names=categories))"
   ]
  },
  {
   "cell_type": "code",
   "execution_count": 57,
   "id": "ab189d70-6bb0-4578-8ccf-dbde659d8639",
   "metadata": {},
   "outputs": [
    {
     "data": {
      "image/png": "[encoded data removed]",
      "text/plain": [
       "<Figure size 1000x700 with 2 Axes>"
      ]
     },
     "metadata": {},
     "output_type": "display_data"
    }
   ],
   "source": [
    "# Display confusion matrix\n",
    "cm = confusion_matrix(y_test, y_pred_classes)\n",
    "plt.figure(figsize=(10, 7))\n",
    "sns.heatmap(cm, annot=True, fmt='d', cmap='Blues', xticklabels=categories, yticklabels=categories)\n",
    "plt.ylabel('Actual')\n",
    "plt.xlabel('Predicted')\n",
    "plt.title('Confusion Matrix')\n",
    "plt.show()"
   ]
  },
  {
   "cell_type": "code",
   "execution_count": 59,
   "id": "9c03c80b-7596-4375-bdeb-b4371ff8a759",
   "metadata": {},
   "outputs": [
    {
     "name": "stdout",
     "output_type": "stream",
     "text": [
      "Found 2002 validated image filenames belonging to 10 classes.\n"
     ]
    }
   ],
   "source": [
    "# Define ImageDataGenerator\n",
    "train_datagen = ImageDataGenerator(\n",
    "    rescale=1./255,  # Normalize image data\n",
    "    # other data augmentation parameters if needed\n",
    ")\n",
    "\n",
    "# Define the test generator\n",
    "basic_test_generator = train_datagen.flow_from_dataframe(\n",
    "    dataframe=test_df,\n",
    "    directory=path+'/',  # Ensure this is correct, points to the base directory of images\n",
    "    x_col='filepaths',\n",
    "    y_col='categories',\n",
    "    target_size=im_size,  # (height, width)\n",
    "    color_mode='grayscale',\n",
    "    class_mode='categorical',  # for multi-class classification with one-hot encoded labels\n",
    "    batch_size=batch_size,\n",
    "    shuffle=False  # Typically set to False for evaluation\n",
    ")"
   ]
  },
  {
   "cell_type": "code",
   "execution_count": 61,
   "id": "ff4f7e54-d3b0-4f83-970c-4d6db548fc77",
   "metadata": {},
   "outputs": [
    {
     "data": {
      "text/html": [
       "<div>\n",
       "<style scoped>\n",
       "    .dataframe tbody tr th:only-of-type {\n",
       "        vertical-align: middle;\n",
       "    }\n",
       "\n",
       "    .dataframe tbody tr th {\n",
       "        vertical-align: top;\n",
       "    }\n",
       "\n",
       "    .dataframe thead th {\n",
       "        text-align: right;\n",
       "    }\n",
       "</style>\n",
       "<table border=\"1\" class=\"dataframe\">\n",
       "  <thead>\n",
       "    <tr style=\"text-align: right;\">\n",
       "      <th></th>\n",
       "      <th>filepaths</th>\n",
       "      <th>categories</th>\n",
       "    </tr>\n",
       "  </thead>\n",
       "  <tbody>\n",
       "    <tr>\n",
       "      <th>10635</th>\n",
       "      <td>05/04_fist_moved/frame_05_04_0036.png</td>\n",
       "      <td>fist_moved</td>\n",
       "    </tr>\n",
       "    <tr>\n",
       "      <th>354</th>\n",
       "      <td>00/02_l/frame_00_02_0155.png</td>\n",
       "      <td>l</td>\n",
       "    </tr>\n",
       "    <tr>\n",
       "      <th>3364</th>\n",
       "      <td>01/07_ok/frame_01_07_0165.png</td>\n",
       "      <td>ok</td>\n",
       "    </tr>\n",
       "    <tr>\n",
       "      <th>16226</th>\n",
       "      <td>08/02_l/frame_08_02_0027.png</td>\n",
       "      <td>l</td>\n",
       "    </tr>\n",
       "    <tr>\n",
       "      <th>14696</th>\n",
       "      <td>07/04_fist_moved/frame_07_04_0097.png</td>\n",
       "      <td>fist_moved</td>\n",
       "    </tr>\n",
       "    <tr>\n",
       "      <th>2314</th>\n",
       "      <td>01/02_l/frame_01_02_0115.png</td>\n",
       "      <td>l</td>\n",
       "    </tr>\n",
       "    <tr>\n",
       "      <th>4337</th>\n",
       "      <td>02/02_l/frame_02_02_0138.png</td>\n",
       "      <td>l</td>\n",
       "    </tr>\n",
       "    <tr>\n",
       "      <th>5163</th>\n",
       "      <td>02/06_index/frame_02_06_0164.png</td>\n",
       "      <td>index</td>\n",
       "    </tr>\n",
       "  </tbody>\n",
       "</table>\n",
       "</div>"
      ],
      "text/plain": [
       "                                   filepaths  categories\n",
       "10635  05/04_fist_moved/frame_05_04_0036.png  fist_moved\n",
       "354             00/02_l/frame_00_02_0155.png           l\n",
       "3364           01/07_ok/frame_01_07_0165.png          ok\n",
       "16226           08/02_l/frame_08_02_0027.png           l\n",
       "14696  07/04_fist_moved/frame_07_04_0097.png  fist_moved\n",
       "2314            01/02_l/frame_01_02_0115.png           l\n",
       "4337            02/02_l/frame_02_02_0138.png           l\n",
       "5163        02/06_index/frame_02_06_0164.png       index"
      ]
     },
     "execution_count": 61,
     "metadata": {},
     "output_type": "execute_result"
    }
   ],
   "source": [
    "test_df[40:48]"
   ]
  },
  {
   "cell_type": "code",
   "execution_count": 63,
   "id": "359d1287-f61d-4ce6-afce-5bdea7fc0960",
   "metadata": {},
   "outputs": [
    {
     "data": {
      "text/plain": [
       "(8, 224, 224, 1)"
      ]
     },
     "execution_count": 63,
     "metadata": {},
     "output_type": "execute_result"
    }
   ],
   "source": [
    "sample_imgs=[]\n",
    "for img_paths in test_df[100:108]['filepaths']:\n",
    "  img = Image.open(path+'/'+img_paths)\n",
    "  img = img.resize(im_size)\n",
    "  img = img.convert('L')\n",
    "  img = np.array(img)\n",
    "  img = img.reshape((img.shape[0], img.shape[1], 1))\n",
    "  sample_imgs.append(img)\n",
    "sample_imgs = np.array(sample_imgs)\n",
    "sample_imgs.shape"
   ]
  },
  {
   "cell_type": "code",
   "execution_count": 74,
   "id": "37b06aef-3b20-4d5f-932e-ebe0519c50e7",
   "metadata": {},
   "outputs": [
    {
     "name": "stdout",
     "output_type": "stream",
     "text": [
      "[array([[5, 4, 4, ..., 3, 4, 2],\n",
      "       [5, 4, 5, ..., 3, 3, 3],\n",
      "       [4, 5, 4, ..., 4, 5, 3],\n",
      "       ...,\n",
      "       [4, 5, 5, ..., 5, 5, 5],\n",
      "       [5, 5, 6, ..., 5, 7, 4],\n",
      "       [4, 7, 5, ..., 5, 4, 4]], dtype=uint8), 0]\n"
     ]
    }
   ],
   "source": [
    "categories = [\"01_palm\", '02_l','03_fist','04_fist_moved','05_thumb','06_index','07_ok','08_palm_moved','09_c','10_down']\n",
    "IMG_SIZE = 50\n",
    "\n",
    "data_path = r\"C:\\\\Users\\\\Soundous\\\\Desktop\\\\PRODIGY_ML_04\"\n",
    "\n",
    "image_data = []\n",
    "for root, dirs, files in os.walk(data_path):\n",
    "    for dir in dirs:\n",
    "        if dir in categories:\n",
    "            class_index = categories.index(dir)\n",
    "            dir_path = os.path.join(root, dir)\n",
    "            for file in os.listdir(dir_path):\n",
    "                img_path = os.path.join(dir_path, file)\n",
    "                img_arr = cv2.imread(img_path, cv2.IMREAD_GRAYSCALE)\n",
    "                image_data.append([cv2.resize(img_arr, (IMG_SIZE, IMG_SIZE)), class_index])\n",
    "\n",
    "if image_data:\n",
    "    print(image_data[0])\n",
    "else:\n",
    "    print(\"No images found\")\n"
   ]
  },
  {
   "cell_type": "code",
   "execution_count": 88,
   "id": "171e80fc-e809-4053-bbce-501b3a9ffe23",
   "metadata": {},
   "outputs": [],
   "source": [
    "# shuffle the input data\n",
    "input_data = []\n",
    "label = []\n",
    "for X, y in image_data:\n",
    "    input_data.append(X)\n",
    "    label.append(y)\n"
   ]
  },
  {
   "cell_type": "code",
   "execution_count": 94,
   "id": "d3d4111a-e56b-43b8-9175-7121bbc4e47a",
   "metadata": {},
   "outputs": [
    {
     "data": {
      "text/plain": [
       "[0, 0, 0, 0, 0, 0, 0, 0, 0, 0]"
      ]
     },
     "execution_count": 94,
     "metadata": {},
     "output_type": "execute_result"
    }
   ],
   "source": [
    "label[:10]"
   ]
  },
  {
   "cell_type": "code",
   "execution_count": 86,
   "id": "7c2d0495-f6a8-403f-b664-2dce0356f7f5",
   "metadata": {},
   "outputs": [
    {
     "data": {
      "image/png": "[encoded data removed]",
      "text/plain": [
       "<Figure size 1000x1000 with 9 Axes>"
      ]
     },
     "metadata": {},
     "output_type": "display_data"
    }
   ],
   "source": [
    "import matplotlib.pyplot as plt\n",
    "plt.figure(1, figsize=(10,10))\n",
    "for i in range(1,10):\n",
    "    plt.subplot(3,3,i)\n",
    "    plt.imshow(image_data[i][0], cmap='hot')\n",
    "    plt.xticks([])\n",
    "    plt.yticks([])\n",
    "    plt.title(categories[label[i]][3:])\n",
    "plt.show()"
   ]
  },
  {
   "cell_type": "code",
   "execution_count": 80,
   "id": "2ce68e2c-cd47-4530-a0f3-b25f70e98497",
   "metadata": {},
   "outputs": [
    {
     "name": "stderr",
     "output_type": "stream",
     "text": [
      "WARNING:absl:You are saving your model as an HDF5 file via `model.save()` or `keras.saving.save_model(model)`. This file format is considered legacy. We recommend using instead the native Keras format, e.g. `model.save('my_model.keras')` or `keras.saving.save_model(model, 'my_model.keras')`. \n"
     ]
    }
   ],
   "source": [
    "#Save the model\n",
    "model.save('hand_gesture_recognition_model.h5')"
   ]
  },
  {
   "cell_type": "code",
   "execution_count": null,
   "id": "6b932bf7-47d5-4379-8fab-dc6d6aebadab",
   "metadata": {},
   "outputs": [],
   "source": []
  }
 ],
 "metadata": {
  "kernelspec": {
   "display_name": "Python 3 (ipykernel)",
   "language": "python",
   "name": "python3"
  },
  "language_info": {
   "codemirror_mode": {
    "name": "ipython",
    "version": 3
   },
   "file_extension": ".py",
   "mimetype": "text/x-python",
   "name": "python",
   "nbconvert_exporter": "python",
   "pygments_lexer": "ipython3",
   "version": "3.12.4"
  }
 },
 "nbformat": 4,
 "nbformat_minor": 5
}
